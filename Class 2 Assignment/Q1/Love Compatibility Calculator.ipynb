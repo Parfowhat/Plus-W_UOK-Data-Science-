{
  "nbformat": 4,
  "nbformat_minor": 0,
  "metadata": {
    "colab": {
      "provenance": [],
      "authorship_tag": "ABX9TyMwtudxj8iMCnUhp9LZnFyc",
      "include_colab_link": true
    },
    "kernelspec": {
      "name": "python3",
      "display_name": "Python 3"
    },
    "language_info": {
      "name": "python"
    }
  },
  "cells": [
    {
      "cell_type": "markdown",
      "metadata": {
        "id": "view-in-github",
        "colab_type": "text"
      },
      "source": [
        "<a href=\"https://colab.research.google.com/github/Parfowhat/Plus-W_UOK-Data-Science-/blob/main/Class 2 Assignment/Q1/Love Compatibility Calculator.ipynb\" target=\"_parent\"><img src=\"https://colab.research.google.com/assets/colab-badge.svg\" alt=\"Open In Colab\"/></a>"
      ]
    },
    {
      "cell_type": "markdown",
      "source": [
        "**Instructions**\n",
        "\n",
        "You are going to write a program that tests the compatibility between two people. To work out the love score between two people:\n",
        "\n",
        "1. Take both people's names and check for the number of times the letters in the word TRUE occurs.\n",
        "2. Then check for the number of times the letters in the word LOVE occurs.\n",
        "3. Then combine these numbers to make a 2 digit number.\n",
        "4. For Love Scores less than 10 or greater than 90, the message should be: \"Your score is *x*, you go together like coke and mentos.\"\n",
        "5. For Love Scores between 40 and 50, the message should be: \"Your score is *y*, you are alright together.\"\n",
        "6. Otherwise, the message will just be their score. e.g.: \"Your score is *z*.\"\n"
      ],
      "metadata": {
        "id": "fctKAK7POo7I"
      }
    },
    {
      "cell_type": "code",
      "source": [
        "#Input variales\n",
        "name1 = input(\"Enter first person name: \")\n",
        "name2 = input(\"Enter second person name: \")\n",
        "\n",
        "#Calculation\n",
        "true_count = (name1.lower().count('t') + name2.lower().count('t') + name1.lower().count('r') + name2.lower().count('r') + name1.lower().count('u') + name2.lower().count('u') + name1.lower().count('e') + name2.lower().count('e'))\n",
        "love_count = (name1.lower().count('l') + name2.lower().count('l') + name1.lower().count('o') + name2.lower().count('o') + name1.lower().count('v') + name2.lower().count('v') + name1.lower().count('e') + name2.lower().count('e'))\n",
        "love_score = int(str(true_count) + str(love_count))\n",
        "\n",
        "#display_loading\n",
        "print(\"The Love Calculator is calculating your score...\")\n",
        "\n",
        "#dislay_score\n",
        "if love_score < 10 or love_score > 90:\n",
        "  print(f\"Your score is {love_score}, you go together like coke and mentos.\")\n",
        "elif 40 <= love_score <= 50:\n",
        "  print(f\"Your score is {love_score}, you are alright together.\")\n",
        "else:\n",
        "  print(f\"Your score is {love_score}.\")\n"
      ],
      "metadata": {
        "colab": {
          "base_uri": "https://localhost:8080/"
        },
        "id": "0mgQ1PA3PobA",
        "outputId": "6c18021f-a2ad-4e32-bbf8-ce5bb8e569c0"
      },
      "execution_count": null,
      "outputs": [
        {
          "output_type": "stream",
          "name": "stdout",
          "text": [
            "Enter first person name: Brad Pitt\n",
            "Enter second person name: Jennefir Aniston\n",
            "The Love Calculator is calculating your score...\n",
            "Your score is 73.\n"
          ]
        }
      ]
    }
  ]
}
