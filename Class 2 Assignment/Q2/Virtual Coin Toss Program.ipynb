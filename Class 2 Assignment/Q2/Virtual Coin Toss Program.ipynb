{
  "nbformat": 4,
  "nbformat_minor": 0,
  "metadata": {
    "colab": {
      "provenance": [],
      "authorship_tag": "ABX9TyO+pE1x4OdTRbFU/L3GiwrV",
      "include_colab_link": true
    },
    "kernelspec": {
      "name": "python3",
      "display_name": "Python 3"
    },
    "language_info": {
      "name": "python"
    }
  },
  "cells": [
    {
      "cell_type": "markdown",
      "metadata": {
        "id": "view-in-github",
        "colab_type": "text"
      },
      "source": [
        "<a href=\"https://colab.research.google.com/github/Parfowhat/Plus-W_UOK-Data-Science-/blob/main/Class 2 Assignment/Q2/Virtual%20Coin%20Toss%20Program.ipynb\" target=\"_parent\"><img src=\"https://colab.research.google.com/assets/colab-badge.svg\" alt=\"Open In Colab\"/></a>"
      ]
    },
    {
      "cell_type": "markdown",
      "source": [
        "**Instructions**\n",
        "\n",
        "1. You are going to write a virtual coin toss program. It will randomly tell the user \"Heads\" or \"Tails\". Important, the first letter should be capitalised and spelt exactly like in the example e.g. \"Heads\", not \"heads\".\n",
        "2. There are many ways of doing this. But to practice what we learnt in the last lesson, you should generate a random number, either 0 or 1. Then use that number to print out \"Heads\" or \"Tails\"."
      ],
      "metadata": {
        "id": "ml6bmpIHgADe"
      }
    },
    {
      "cell_type": "code",
      "source": [
        "import random\n",
        "\n",
        "# Generate a random number (0 or 1)\n",
        "random_number = random.randint(0, 1)\n",
        "\n",
        "# Use an if-else statement to determine the result\n",
        "if random_number == 1:\n",
        "    result = \"Heads\"\n",
        "else:\n",
        "    result = \"Tails\"\n",
        "\n",
        "# Print the result\n",
        "print(result)\n"
      ],
      "metadata": {
        "id": "H85wG1EfgBY-",
        "colab": {
          "base_uri": "https://localhost:8080/"
        },
        "outputId": "bb5b0c77-5c38-4cbe-9bd5-90ca99e13b06"
      },
      "execution_count": 2,
      "outputs": [
        {
          "output_type": "stream",
          "name": "stdout",
          "text": [
            "Heads\n"
          ]
        }
      ]
    }
  ]
}
